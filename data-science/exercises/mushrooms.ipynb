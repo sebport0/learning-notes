{
 "cells": [
  {
   "cell_type": "markdown",
   "id": "08bb7a98-a86d-479a-b7c8-f3a790938d8e",
   "metadata": {},
   "source": [
    "# Predicting if I can, safely, eat that mushroom"
   ]
  },
  {
   "cell_type": "markdown",
   "id": "dea1e782-4e0e-449a-b8c3-d4e97ad8a388",
   "metadata": {},
   "source": [
    "## Introduction\n",
    "### Objective\n",
    "Create a model that can perform a binary classification of a mushroom, following the dataset features, into:\n",
    "* Definitively edible.\n",
    "* Definitively poisonous.\n",
    "* Unknown edibility and not recommended(combined with the poisonous class).\n",
    "\n",
    "This is a binary classification task.\n",
    "\n",
    "Since it's a death or life business, I'll like to reach an accuracy $>= 95 \\%$.\n",
    "\n",
    "### Dataset Information\n",
    "\n",
    "There are 20 features(n: nominal, m: metrical)\n",
    "\n",
    "1. cap-diameter (m): float number in cm\n",
    "2. cap-shape (n): bell=b, conical=c, convex=x, flat=f, sunken=s, spherical=p, others=o\n",
    "3. cap-surface (n): fibrous=i, grooves=g, scaly=y, smooth=s, shiny=h, leathery=l, silky=k, sticky=t, wrinkled=w, fleshy=e\n",
    "4. cap-color (n): brown=n, buff=b, gray=g, green=r, pink=p, purple=u, red=e, white=w, yellow=y, blue=l, orange=o, black=k\n",
    "5. does-bruise-bleed (n): bruises-or-bleeding=t,no=f\n",
    "6. gill-attachment (n): adnate=a, adnexed=x, decurrent=d, free=e, sinuate=s, pores=p, none=f, unknown=?\n",
    "7. gill-spacing (n): close=c, distant=d, none=f\n",
    "8. gill-color (n): see cap-color + none=f\n",
    "9. stem-height (m): float number in cm\n",
    "10. stem-width (m): float number in mm\n",
    "11. stem-root (n): bulbous=b, swollen=s, club=c, cup=u, equal=e, rhizomorphs=z, rooted=r\n",
    "12. stem-surface (n): see cap-surface + none=f\n",
    "13. stem-color (n): see cap-color + none=f\n",
    "14. veil-type (n): partial=p, universal=u\n",
    "15. veil-color (n): see cap-color + none=f\n",
    "16. has-ring (n): ring=t, none=f\n",
    "17. ring-type (n): cobwebby=c, evanescent=e, flaring=r, grooved=g, large=l, pendant=p, sheathing=s, zone=z, scaly=y, movable=m, none=f, unknown=?\n",
    "18. spore-print-color (n): see cap color\n",
    "19. habitat (n): grasses=g, leaves=l, meadows=m, paths=p, heaths=h, urban=u, waste=w, woods=d\n",
    "20. season (n): spring=s, summer=u, autumn=a, winter=w\n",
    "\n",
    "### References\n",
    "\n",
    "* [Dataset](https://archive.ics.uci.edu/dataset/848/secondary+mushroom+dataset)\n",
    "* [Mushroom data creation, curation, and simulation to support classification tasks | Scientific Reports](https://www.nature.com/articles/s41598-021-87602-3)\n",
    "* [Mushroom anatomy](https://www.realmushrooms.com/mushroom-anatomy-parts/)\n"
   ]
  },
  {
   "cell_type": "markdown",
   "id": "3b7fa49d-9a8a-4eac-b954-a1957681d5ee",
   "metadata": {},
   "source": [
    "## Data Exploration\n",
    "\n",
    "In this section we are going to get acquainted with our dataset. Some questions to ask:\n",
    "\n",
    "* What does each of the 20 features mean?\n",
    "* How each of the different features influence the mushroom's class?\n",
    "* Can the edible class of the mushroom be predicted taking only the color features into consideration? There are some frogs that are poisonous, and you\n",
    "  can distinguish them with their colors.\n",
    "* Can the mushroom's edible class be predicted with the metrical features alone?\n",
    "* Is there a season/s where there are more poisonous mushrooms?\n",
    "* Is there a habitat that growns more poisonous mushrooms?"
   ]
  },
  {
   "cell_type": "code",
   "execution_count": 1,
   "id": "600f5aa3-5e4f-4051-921b-79ddb96afe38",
   "metadata": {},
   "outputs": [
    {
     "data": {
      "text/html": [
       "<div>\n",
       "<style scoped>\n",
       "    .dataframe tbody tr th:only-of-type {\n",
       "        vertical-align: middle;\n",
       "    }\n",
       "\n",
       "    .dataframe tbody tr th {\n",
       "        vertical-align: top;\n",
       "    }\n",
       "\n",
       "    .dataframe thead th {\n",
       "        text-align: right;\n",
       "    }\n",
       "</style>\n",
       "<table border=\"1\" class=\"dataframe\">\n",
       "  <thead>\n",
       "    <tr style=\"text-align: right;\">\n",
       "      <th></th>\n",
       "      <th>class</th>\n",
       "      <th>cap-diameter</th>\n",
       "      <th>cap-shape</th>\n",
       "      <th>cap-surface</th>\n",
       "      <th>cap-color</th>\n",
       "      <th>does-bruise-or-bleed</th>\n",
       "      <th>gill-attachment</th>\n",
       "      <th>gill-spacing</th>\n",
       "      <th>gill-color</th>\n",
       "      <th>stem-height</th>\n",
       "      <th>...</th>\n",
       "      <th>stem-root</th>\n",
       "      <th>stem-surface</th>\n",
       "      <th>stem-color</th>\n",
       "      <th>veil-type</th>\n",
       "      <th>veil-color</th>\n",
       "      <th>has-ring</th>\n",
       "      <th>ring-type</th>\n",
       "      <th>spore-print-color</th>\n",
       "      <th>habitat</th>\n",
       "      <th>season</th>\n",
       "    </tr>\n",
       "  </thead>\n",
       "  <tbody>\n",
       "    <tr>\n",
       "      <th>0</th>\n",
       "      <td>p</td>\n",
       "      <td>15.26</td>\n",
       "      <td>x</td>\n",
       "      <td>g</td>\n",
       "      <td>o</td>\n",
       "      <td>f</td>\n",
       "      <td>e</td>\n",
       "      <td>NaN</td>\n",
       "      <td>w</td>\n",
       "      <td>16.95</td>\n",
       "      <td>...</td>\n",
       "      <td>s</td>\n",
       "      <td>y</td>\n",
       "      <td>w</td>\n",
       "      <td>u</td>\n",
       "      <td>w</td>\n",
       "      <td>t</td>\n",
       "      <td>g</td>\n",
       "      <td>NaN</td>\n",
       "      <td>d</td>\n",
       "      <td>w</td>\n",
       "    </tr>\n",
       "    <tr>\n",
       "      <th>1</th>\n",
       "      <td>p</td>\n",
       "      <td>16.60</td>\n",
       "      <td>x</td>\n",
       "      <td>g</td>\n",
       "      <td>o</td>\n",
       "      <td>f</td>\n",
       "      <td>e</td>\n",
       "      <td>NaN</td>\n",
       "      <td>w</td>\n",
       "      <td>17.99</td>\n",
       "      <td>...</td>\n",
       "      <td>s</td>\n",
       "      <td>y</td>\n",
       "      <td>w</td>\n",
       "      <td>u</td>\n",
       "      <td>w</td>\n",
       "      <td>t</td>\n",
       "      <td>g</td>\n",
       "      <td>NaN</td>\n",
       "      <td>d</td>\n",
       "      <td>u</td>\n",
       "    </tr>\n",
       "    <tr>\n",
       "      <th>2</th>\n",
       "      <td>p</td>\n",
       "      <td>14.07</td>\n",
       "      <td>x</td>\n",
       "      <td>g</td>\n",
       "      <td>o</td>\n",
       "      <td>f</td>\n",
       "      <td>e</td>\n",
       "      <td>NaN</td>\n",
       "      <td>w</td>\n",
       "      <td>17.80</td>\n",
       "      <td>...</td>\n",
       "      <td>s</td>\n",
       "      <td>y</td>\n",
       "      <td>w</td>\n",
       "      <td>u</td>\n",
       "      <td>w</td>\n",
       "      <td>t</td>\n",
       "      <td>g</td>\n",
       "      <td>NaN</td>\n",
       "      <td>d</td>\n",
       "      <td>w</td>\n",
       "    </tr>\n",
       "    <tr>\n",
       "      <th>3</th>\n",
       "      <td>p</td>\n",
       "      <td>14.17</td>\n",
       "      <td>f</td>\n",
       "      <td>h</td>\n",
       "      <td>e</td>\n",
       "      <td>f</td>\n",
       "      <td>e</td>\n",
       "      <td>NaN</td>\n",
       "      <td>w</td>\n",
       "      <td>15.77</td>\n",
       "      <td>...</td>\n",
       "      <td>s</td>\n",
       "      <td>y</td>\n",
       "      <td>w</td>\n",
       "      <td>u</td>\n",
       "      <td>w</td>\n",
       "      <td>t</td>\n",
       "      <td>p</td>\n",
       "      <td>NaN</td>\n",
       "      <td>d</td>\n",
       "      <td>w</td>\n",
       "    </tr>\n",
       "    <tr>\n",
       "      <th>4</th>\n",
       "      <td>p</td>\n",
       "      <td>14.64</td>\n",
       "      <td>x</td>\n",
       "      <td>h</td>\n",
       "      <td>o</td>\n",
       "      <td>f</td>\n",
       "      <td>e</td>\n",
       "      <td>NaN</td>\n",
       "      <td>w</td>\n",
       "      <td>16.53</td>\n",
       "      <td>...</td>\n",
       "      <td>s</td>\n",
       "      <td>y</td>\n",
       "      <td>w</td>\n",
       "      <td>u</td>\n",
       "      <td>w</td>\n",
       "      <td>t</td>\n",
       "      <td>p</td>\n",
       "      <td>NaN</td>\n",
       "      <td>d</td>\n",
       "      <td>w</td>\n",
       "    </tr>\n",
       "  </tbody>\n",
       "</table>\n",
       "<p>5 rows × 21 columns</p>\n",
       "</div>"
      ],
      "text/plain": [
       "  class  cap-diameter cap-shape cap-surface cap-color does-bruise-or-bleed  \\\n",
       "0     p         15.26         x           g         o                    f   \n",
       "1     p         16.60         x           g         o                    f   \n",
       "2     p         14.07         x           g         o                    f   \n",
       "3     p         14.17         f           h         e                    f   \n",
       "4     p         14.64         x           h         o                    f   \n",
       "\n",
       "  gill-attachment gill-spacing gill-color  stem-height  ...  stem-root  \\\n",
       "0               e          NaN          w        16.95  ...          s   \n",
       "1               e          NaN          w        17.99  ...          s   \n",
       "2               e          NaN          w        17.80  ...          s   \n",
       "3               e          NaN          w        15.77  ...          s   \n",
       "4               e          NaN          w        16.53  ...          s   \n",
       "\n",
       "  stem-surface stem-color veil-type veil-color has-ring ring-type  \\\n",
       "0            y          w         u          w        t         g   \n",
       "1            y          w         u          w        t         g   \n",
       "2            y          w         u          w        t         g   \n",
       "3            y          w         u          w        t         p   \n",
       "4            y          w         u          w        t         p   \n",
       "\n",
       "  spore-print-color habitat season  \n",
       "0               NaN       d      w  \n",
       "1               NaN       d      u  \n",
       "2               NaN       d      w  \n",
       "3               NaN       d      w  \n",
       "4               NaN       d      w  \n",
       "\n",
       "[5 rows x 21 columns]"
      ]
     },
     "execution_count": 1,
     "metadata": {},
     "output_type": "execute_result"
    }
   ],
   "source": [
    "import pandas as pd\n",
    "import numpy as np\n",
    "import matplotlib.pyplot as plt\n",
    "%matplotlib inline\n",
    "\n",
    "df = pd.read_csv(\"data/secondary_data.csv\", sep=\";\")\n",
    "df.head()"
   ]
  },
  {
   "cell_type": "code",
   "execution_count": 2,
   "id": "0e4c5275-f9e3-4814-b477-1cf530551c9b",
   "metadata": {},
   "outputs": [
    {
     "data": {
      "text/plain": [
       "<Axes: >"
      ]
     },
     "execution_count": 2,
     "metadata": {},
     "output_type": "execute_result"
    },
    {
     "data": {
      "image/png": "[encoded data removed]",
      "text/plain": [
       "<Figure size 640x480 with 1 Axes>"
      ]
     },
     "metadata": {},
     "output_type": "display_data"
    }
   ],
   "source": [
    "df[\"class\"].value_counts().plot(kind=\"bar\")"
   ]
  },
  {
   "cell_type": "code",
   "execution_count": 3,
   "id": "baca063e-06ac-4de7-888f-6854772aefcd",
   "metadata": {},
   "outputs": [
    {
     "data": {
      "text/plain": [
       "1.2467532467532467"
      ]
     },
     "execution_count": 3,
     "metadata": {},
     "output_type": "execute_result"
    }
   ],
   "source": [
    "p = df[df[\"class\"] == \"p\"]\n",
    "e = df[df[\"class\"] == \"e\"]\n",
    "len(p) / len(e)"
   ]
  },
  {
   "cell_type": "markdown",
   "id": "4d684f3d-5d73-479b-9237-4bd38d022416",
   "metadata": {},
   "source": [
    "There are $~25\\%$ more poisonous labeled mushrooms in the dataset than edibles ones."
   ]
  },
  {
   "cell_type": "markdown",
   "id": "a6631400-de47-403e-9119-2cda4b688708",
   "metadata": {},
   "source": [
    "Are there missing values for some of dataset's columns?"
   ]
  },
  {
   "cell_type": "code",
   "execution_count": 4,
   "id": "50e85ccb-eb5f-4ef3-9684-12a0ba17e96a",
   "metadata": {},
   "outputs": [
    {
     "name": "stdout",
     "output_type": "stream",
     "text": [
      "<class 'pandas.core.frame.DataFrame'>\n",
      "RangeIndex: 61069 entries, 0 to 61068\n",
      "Data columns (total 21 columns):\n",
      " #   Column                Non-Null Count  Dtype  \n",
      "---  ------                --------------  -----  \n",
      " 0   class                 61069 non-null  object \n",
      " 1   cap-diameter          61069 non-null  float64\n",
      " 2   cap-shape             61069 non-null  object \n",
      " 3   cap-surface           46949 non-null  object \n",
      " 4   cap-color             61069 non-null  object \n",
      " 5   does-bruise-or-bleed  61069 non-null  object \n",
      " 6   gill-attachment       51185 non-null  object \n",
      " 7   gill-spacing          36006 non-null  object \n",
      " 8   gill-color            61069 non-null  object \n",
      " 9   stem-height           61069 non-null  float64\n",
      " 10  stem-width            61069 non-null  float64\n",
      " 11  stem-root             9531 non-null   object \n",
      " 12  stem-surface          22945 non-null  object \n",
      " 13  stem-color            61069 non-null  object \n",
      " 14  veil-type             3177 non-null   object \n",
      " 15  veil-color            7413 non-null   object \n",
      " 16  has-ring              61069 non-null  object \n",
      " 17  ring-type             58598 non-null  object \n",
      " 18  spore-print-color     6354 non-null   object \n",
      " 19  habitat               61069 non-null  object \n",
      " 20  season                61069 non-null  object \n",
      "dtypes: float64(3), object(18)\n",
      "memory usage: 9.8+ MB\n"
     ]
    }
   ],
   "source": [
    "df.info()"
   ]
  },
  {
   "cell_type": "code",
   "execution_count": 5,
   "id": "ad5812a9-5bee-488c-bf0a-d7779f152ace",
   "metadata": {},
   "outputs": [
    {
     "data": {
      "text/plain": [
       "class                       0\n",
       "cap-diameter                0\n",
       "cap-shape                   0\n",
       "cap-surface             14120\n",
       "cap-color                   0\n",
       "does-bruise-or-bleed        0\n",
       "gill-attachment          9884\n",
       "gill-spacing            25063\n",
       "gill-color                  0\n",
       "stem-height                 0\n",
       "stem-width                  0\n",
       "stem-root               51538\n",
       "stem-surface            38124\n",
       "stem-color                  0\n",
       "veil-type               57892\n",
       "veil-color              53656\n",
       "has-ring                    0\n",
       "ring-type                2471\n",
       "spore-print-color       54715\n",
       "habitat                     0\n",
       "season                      0\n",
       "dtype: int64"
      ]
     },
     "execution_count": 5,
     "metadata": {},
     "output_type": "execute_result"
    }
   ],
   "source": [
    "df.isna().sum()"
   ]
  },
  {
   "cell_type": "markdown",
   "id": "f321b765-b25c-4f27-8878-a4fc6cc77bc4",
   "metadata": {},
   "source": [
    "As we can see, `cap_surface`, `gill-attachment`, `gill-spacing`, `stem-root`, `stem-surface`, `veil-type`, `veil-color`,\n",
    "`ring-type` and `spore-print-color` have missing values. Let's explore some of them."
   ]
  },
  {
   "cell_type": "markdown",
   "id": "8a7a97cf-fd53-41ad-8e81-296cfd3053d1",
   "metadata": {},
   "source": [
    "### Veil Type"
   ]
  },
  {
   "cell_type": "code",
   "execution_count": 6,
   "id": "2649d717-0a4e-4e2c-9b84-1218ff74fecd",
   "metadata": {},
   "outputs": [
    {
     "data": {
      "text/plain": [
       "u    3177\n",
       "Name: veil-type, dtype: int64"
      ]
     },
     "execution_count": 6,
     "metadata": {},
     "output_type": "execute_result"
    }
   ],
   "source": [
    "df[\"veil-type\"].value_counts()"
   ]
  },
  {
   "cell_type": "markdown",
   "id": "b6b62b53-0144-47d4-aeac-b31b05e2b4f5",
   "metadata": {},
   "source": [
    "All of them are 'u': universal. \n",
    "\n",
    "From Wikipedia: \n",
    "\n",
    "> A veil or velum, in mycology, is one of several structures in fungi, especially the thin membrane that covers the cap and stalk of an immature mushroom.[1]\n",
    "In mycology, a universal veil is a temporary membranous tissue that fully envelops immature fruiting bodies of certain gilled mushrooms. The developing Caesar's mushroom (Amanita caesarea), for example, which may resemble a small white sphere at this point, is protected by this structure. The veil will eventually rupture and disintegrate by the force of the expanding and maturing mushroom, but will usually leave evidence of its former shape with remnants. These remnants include the volva, or cup-like structure at the base of the stipe, and patches or \"warts\" on top of the cap. This macrofeature is useful in wild mushroom identification because it is an easily observed, taxonomically significant feature. It is a character present among species of basidiomycete fungi belonging to the genera Amanita and Volvariella. This has particular importance due to the disproportionately high number of potentially lethal species contained within the former genus.\n",
    "\n",
    "It's a pity that there are so many missing values for the veil type because it seems to be an important factor to decide if a mushroom is poisonous or not."
   ]
  },
  {
   "cell_type": "markdown",
   "id": "31038136-5d64-4511-aa48-cec017c50b25",
   "metadata": {},
   "source": [
    "## Cap Shape\n",
    "\n",
    "From [Wikipedia](https://en.wikipedia.org/wiki/Mushroom_poisoning)\n",
    "\n",
    ">The shape of the mushroom cap does not correlate with presence or absence of mushroom toxins, so this is not a reliable method to distinguish between edible and poisonous species. Death cap, for instance, has a rounded cap when mature.\n",
    "\n",
    "From this, it's seem safe to disregard `cap-shape` from the analysis."
   ]
  },
  {
   "cell_type": "markdown",
   "id": "4bf4ecb8-af90-446b-a667-d73c185ef1f5",
   "metadata": {},
   "source": [
    "## Cap Color"
   ]
  },
  {
   "cell_type": "code",
   "execution_count": 7,
   "id": "ac4930b7-5e1f-41bc-a16f-848ef7488f7f",
   "metadata": {},
   "outputs": [
    {
     "data": {
      "text/plain": [
       "<Axes: >"
      ]
     },
     "execution_count": 7,
     "metadata": {},
     "output_type": "execute_result"
    },
    {
     "data": {
      "image/png": "[encoded data removed]",
      "text/plain": [
       "<Figure size 640x480 with 1 Axes>"
      ]
     },
     "metadata": {},
     "output_type": "display_data"
    }
   ],
   "source": [
    "df[\"cap-color\"].value_counts().plot(kind=\"bar\")"
   ]
  },
  {
   "cell_type": "markdown",
   "id": "ca8ede3a-bc8a-4d26-affa-dd1fb727be01",
   "metadata": {},
   "source": [
    "cap-color (n): brown=n, buff=b, gray=g, green=r, pink=p, purple=u, red=e, white=w, yellow=y, blue=l, orange=o, black=k"
   ]
  },
  {
   "cell_type": "code",
   "execution_count": 8,
   "id": "b1a5ffeb-30c7-4213-9a1b-485ceb236384",
   "metadata": {},
   "outputs": [
    {
     "data": {
      "text/plain": [
       "<Axes: ylabel='Frequency'>"
      ]
     },
     "execution_count": 8,
     "metadata": {},
     "output_type": "execute_result"
    },
    {
     "data": {
      "image/png": "[encoded data removed]",
      "text/plain": [
       "<Figure size 640x480 with 1 Axes>"
      ]
     },
     "metadata": {},
     "output_type": "display_data"
    }
   ],
   "source": [
    "df[\"cap-color\"].value_counts().plot(kind=\"hist\")"
   ]
  },
  {
   "cell_type": "markdown",
   "id": "af5caa3b-f1cf-42a7-8651-9c974d70ac48",
   "metadata": {},
   "source": [
    "We can see that the cap colors is heavily biased by brown mushrooms."
   ]
  },
  {
   "cell_type": "code",
   "execution_count": 9,
   "id": "38e0dc80-c9ad-41d1-a650-c562b8355491",
   "metadata": {},
   "outputs": [
    {
     "data": {
      "text/html": [
       "<div>\n",
       "<style scoped>\n",
       "    .dataframe tbody tr th:only-of-type {\n",
       "        vertical-align: middle;\n",
       "    }\n",
       "\n",
       "    .dataframe tbody tr th {\n",
       "        vertical-align: top;\n",
       "    }\n",
       "\n",
       "    .dataframe thead th {\n",
       "        text-align: right;\n",
       "    }\n",
       "</style>\n",
       "<table border=\"1\" class=\"dataframe\">\n",
       "  <thead>\n",
       "    <tr style=\"text-align: right;\">\n",
       "      <th>class</th>\n",
       "      <th>e</th>\n",
       "      <th>p</th>\n",
       "    </tr>\n",
       "    <tr>\n",
       "      <th>cap-color</th>\n",
       "      <th></th>\n",
       "      <th></th>\n",
       "    </tr>\n",
       "  </thead>\n",
       "  <tbody>\n",
       "    <tr>\n",
       "      <th>b</th>\n",
       "      <td>974</td>\n",
       "      <td>256</td>\n",
       "    </tr>\n",
       "    <tr>\n",
       "      <th>e</th>\n",
       "      <td>880</td>\n",
       "      <td>3155</td>\n",
       "    </tr>\n",
       "    <tr>\n",
       "      <th>g</th>\n",
       "      <td>2297</td>\n",
       "      <td>2123</td>\n",
       "    </tr>\n",
       "    <tr>\n",
       "      <th>k</th>\n",
       "      <td>501</td>\n",
       "      <td>778</td>\n",
       "    </tr>\n",
       "    <tr>\n",
       "      <th>l</th>\n",
       "      <td>452</td>\n",
       "      <td>376</td>\n",
       "    </tr>\n",
       "    <tr>\n",
       "      <th>n</th>\n",
       "      <td>12407</td>\n",
       "      <td>11811</td>\n",
       "    </tr>\n",
       "    <tr>\n",
       "      <th>o</th>\n",
       "      <td>1071</td>\n",
       "      <td>2585</td>\n",
       "    </tr>\n",
       "    <tr>\n",
       "      <th>p</th>\n",
       "      <td>449</td>\n",
       "      <td>1254</td>\n",
       "    </tr>\n",
       "    <tr>\n",
       "      <th>r</th>\n",
       "      <td>198</td>\n",
       "      <td>1584</td>\n",
       "    </tr>\n",
       "    <tr>\n",
       "      <th>u</th>\n",
       "      <td>611</td>\n",
       "      <td>1098</td>\n",
       "    </tr>\n",
       "    <tr>\n",
       "      <th>w</th>\n",
       "      <td>3750</td>\n",
       "      <td>3916</td>\n",
       "    </tr>\n",
       "    <tr>\n",
       "      <th>y</th>\n",
       "      <td>3591</td>\n",
       "      <td>4952</td>\n",
       "    </tr>\n",
       "  </tbody>\n",
       "</table>\n",
       "</div>"
      ],
      "text/plain": [
       "class          e      p\n",
       "cap-color              \n",
       "b            974    256\n",
       "e            880   3155\n",
       "g           2297   2123\n",
       "k            501    778\n",
       "l            452    376\n",
       "n          12407  11811\n",
       "o           1071   2585\n",
       "p            449   1254\n",
       "r            198   1584\n",
       "u            611   1098\n",
       "w           3750   3916\n",
       "y           3591   4952"
      ]
     },
     "execution_count": 9,
     "metadata": {},
     "output_type": "execute_result"
    }
   ],
   "source": [
    "pd.crosstab(df[\"cap-color\"], df[\"class\"])"
   ]
  },
  {
   "cell_type": "code",
   "execution_count": 10,
   "id": "84811463-d929-47bf-9b64-b104f67a7dc1",
   "metadata": {},
   "outputs": [
    {
     "data": {
      "text/plain": [
       "<Axes: xlabel='cap-color'>"
      ]
     },
     "execution_count": 10,
     "metadata": {},
     "output_type": "execute_result"
    },
    {
     "data": {
      "image/png": "[encoded data removed]",
      "text/plain": [
       "<Figure size 640x480 with 1 Axes>"
      ]
     },
     "metadata": {},
     "output_type": "display_data"
    }
   ],
   "source": [
    "pd.crosstab(df[\"cap-color\"], df[\"class\"]).plot(kind=\"bar\")"
   ]
  },
  {
   "cell_type": "markdown",
   "id": "4c8f892d-f1b8-4d97-b23c-a6b0a523ab38",
   "metadata": {},
   "source": [
    "cap-color (n): brown=n, buff=b, gray=g, green=r, pink=p, purple=u, red=e, white=w, yellow=y, blue=l, orange=o, black=k\n",
    "\n",
    "When the cap color is red, orange, pink, green, purple or yellow, the mushroom have a much greater chance of being non-edible according to the dataset. What about the veil color?"
   ]
  },
  {
   "cell_type": "markdown",
   "id": "72911108-4732-41c1-9d6a-bdea16ec1a73",
   "metadata": {},
   "source": [
    "## Veil color\n",
    "\n",
    "veil-color (n): brown=n, buff=b, gray=g, green=r, pink=p, purple=u, red=e, white=w, yellow=y, blue=l, orange=o, black=k, none=f"
   ]
  },
  {
   "cell_type": "code",
   "execution_count": 11,
   "id": "abbf22dc-2f39-4a82-b23d-01e8b6922061",
   "metadata": {},
   "outputs": [
    {
     "data": {
      "text/plain": [
       "w    5474\n",
       "y     527\n",
       "n     525\n",
       "u     353\n",
       "k     353\n",
       "e     181\n",
       "Name: veil-color, dtype: int64"
      ]
     },
     "execution_count": 11,
     "metadata": {},
     "output_type": "execute_result"
    }
   ],
   "source": [
    "df[\"veil-color\"].value_counts()"
   ]
  },
  {
   "cell_type": "code",
   "execution_count": 12,
   "id": "e5fceaea-c5f4-4cca-85c6-546a5c21b736",
   "metadata": {},
   "outputs": [
    {
     "data": {
      "text/plain": [
       "<Axes: xlabel='veil-color'>"
      ]
     },
     "execution_count": 12,
     "metadata": {},
     "output_type": "execute_result"
    },
    {
     "data": {
      "image/png": "[encoded data removed]",
      "text/plain": [
       "<Figure size 640x480 with 1 Axes>"
      ]
     },
     "metadata": {},
     "output_type": "display_data"
    }
   ],
   "source": [
    "pd.crosstab(df[\"veil-color\"], df[\"class\"]).plot(kind=\"bar\")"
   ]
  },
  {
   "cell_type": "markdown",
   "id": "1ec67bc2-5d64-4d6b-b162-9daccf7328c7",
   "metadata": {},
   "source": [
    "It looks like that red, black, brown and purple veil colors tend to be labeled as poisonous."
   ]
  },
  {
   "cell_type": "markdown",
   "id": "17ace9cb-df72-4cd8-bd64-272cb6993cb4",
   "metadata": {},
   "source": [
    "### Cast strings to categories"
   ]
  },
  {
   "cell_type": "code",
   "execution_count": 16,
   "id": "657b95b6-c7fd-4c8f-8285-9a96ba2ea7f1",
   "metadata": {},
   "outputs": [
    {
     "data": {
      "text/plain": [
       "['class',\n",
       " 'cap-shape',\n",
       " 'cap-surface',\n",
       " 'cap-color',\n",
       " 'does-bruise-or-bleed',\n",
       " 'gill-attachment',\n",
       " 'gill-spacing',\n",
       " 'gill-color',\n",
       " 'stem-root',\n",
       " 'stem-surface',\n",
       " 'stem-color',\n",
       " 'veil-type',\n",
       " 'veil-color',\n",
       " 'has-ring',\n",
       " 'ring-type',\n",
       " 'spore-print-color',\n",
       " 'habitat',\n",
       " 'season']"
      ]
     },
     "execution_count": 16,
     "metadata": {},
     "output_type": "execute_result"
    }
   ],
   "source": [
    "string_cols = []\n",
    "for label, content in df.items():\n",
    "    if pd.api.types.is_string_dtype(content):\n",
    "        string_cols.append(label)\n",
    "string_cols"
   ]
  },
  {
   "cell_type": "code",
   "execution_count": 17,
   "id": "f49124ec-4a80-4e28-8fd3-e3285fd18031",
   "metadata": {},
   "outputs": [],
   "source": [
    "# This will turn all of the string values into category values.\n",
    "for label, content in df.items():\n",
    "    if pd.api.types.is_string_dtype(content):\n",
    "        df[label] = content.astype(\"category\").cat.as_ordered()"
   ]
  },
  {
   "cell_type": "code",
   "execution_count": 19,
   "id": "698ab48c-efe4-4497-bfae-28215e6a0cff",
   "metadata": {},
   "outputs": [
    {
     "name": "stdout",
     "output_type": "stream",
     "text": [
      "<class 'pandas.core.frame.DataFrame'>\n",
      "RangeIndex: 61069 entries, 0 to 61068\n",
      "Data columns (total 21 columns):\n",
      " #   Column                Non-Null Count  Dtype   \n",
      "---  ------                --------------  -----   \n",
      " 0   class                 61069 non-null  category\n",
      " 1   cap-diameter          61069 non-null  float64 \n",
      " 2   cap-shape             61069 non-null  category\n",
      " 3   cap-surface           46949 non-null  category\n",
      " 4   cap-color             61069 non-null  category\n",
      " 5   does-bruise-or-bleed  61069 non-null  category\n",
      " 6   gill-attachment       51185 non-null  category\n",
      " 7   gill-spacing          36006 non-null  category\n",
      " 8   gill-color            61069 non-null  category\n",
      " 9   stem-height           61069 non-null  float64 \n",
      " 10  stem-width            61069 non-null  float64 \n",
      " 11  stem-root             9531 non-null   category\n",
      " 12  stem-surface          22945 non-null  category\n",
      " 13  stem-color            61069 non-null  category\n",
      " 14  veil-type             3177 non-null   category\n",
      " 15  veil-color            7413 non-null   category\n",
      " 16  has-ring              61069 non-null  category\n",
      " 17  ring-type             58598 non-null  category\n",
      " 18  spore-print-color     6354 non-null   category\n",
      " 19  habitat               61069 non-null  category\n",
      " 20  season                61069 non-null  category\n",
      "dtypes: category(18), float64(3)\n",
      "memory usage: 2.5 MB\n"
     ]
    }
   ],
   "source": [
    "df.info()"
   ]
  },
  {
   "cell_type": "markdown",
   "id": "0d638254-eedd-4e48-b5e6-48572be0b75a",
   "metadata": {},
   "source": [
    "### Fill missing categorical values and convert non missing categorical to their codes"
   ]
  },
  {
   "cell_type": "code",
   "execution_count": 20,
   "id": "afb0dccd-5e24-417c-9760-e1433c476f7a",
   "metadata": {},
   "outputs": [],
   "source": [
    "for label, content in df.items():\n",
    "    if not pd.api.types.is_numeric_dtype(content):\n",
    "        df[f\"{label}_is_missing\"] = pd.isnull(content)\n",
    "        df[label] = pd.Categorical(content).codes + 1"
   ]
  },
  {
   "cell_type": "code",
   "execution_count": 21,
   "id": "b497f0b1-94fa-4e0a-9a0e-f359e3d2b334",
   "metadata": {},
   "outputs": [
    {
     "data": {
      "text/plain": [
       "12    22926\n",
       "7     18063\n",
       "13     7865\n",
       "4      2626\n",
       "8      2187\n",
       "2      2050\n",
       "11     1490\n",
       "3      1059\n",
       "9      1025\n",
       "5       837\n",
       "10      542\n",
       "6       226\n",
       "1       173\n",
       "Name: stem-color, dtype: int64"
      ]
     },
     "execution_count": 21,
     "metadata": {},
     "output_type": "execute_result"
    }
   ],
   "source": [
    "df[\"stem-color\"].value_counts()"
   ]
  },
  {
   "cell_type": "code",
   "execution_count": 22,
   "id": "2b316179-00f3-4ab2-ac5b-3e2721730a31",
   "metadata": {},
   "outputs": [
    {
     "data": {
      "text/plain": [
       "class                              0\n",
       "cap-diameter                       0\n",
       "cap-shape                          0\n",
       "cap-surface                        0\n",
       "cap-color                          0\n",
       "does-bruise-or-bleed               0\n",
       "gill-attachment                    0\n",
       "gill-spacing                       0\n",
       "gill-color                         0\n",
       "stem-height                        0\n",
       "stem-width                         0\n",
       "stem-root                          0\n",
       "stem-surface                       0\n",
       "stem-color                         0\n",
       "veil-type                          0\n",
       "veil-color                         0\n",
       "has-ring                           0\n",
       "ring-type                          0\n",
       "spore-print-color                  0\n",
       "habitat                            0\n",
       "season                             0\n",
       "class_is_missing                   0\n",
       "cap-shape_is_missing               0\n",
       "cap-surface_is_missing             0\n",
       "cap-color_is_missing               0\n",
       "does-bruise-or-bleed_is_missing    0\n",
       "gill-attachment_is_missing         0\n",
       "gill-spacing_is_missing            0\n",
       "gill-color_is_missing              0\n",
       "stem-root_is_missing               0\n",
       "stem-surface_is_missing            0\n",
       "stem-color_is_missing              0\n",
       "veil-type_is_missing               0\n",
       "veil-color_is_missing              0\n",
       "has-ring_is_missing                0\n",
       "ring-type_is_missing               0\n",
       "spore-print-color_is_missing       0\n",
       "habitat_is_missing                 0\n",
       "season_is_missing                  0\n",
       "dtype: int64"
      ]
     },
     "execution_count": 22,
     "metadata": {},
     "output_type": "execute_result"
    }
   ],
   "source": [
    "df.isna().sum()"
   ]
  },
  {
   "cell_type": "markdown",
   "id": "b036493d-cfaf-4c90-a0e0-827237323431",
   "metadata": {},
   "source": [
    "Since we have all of the string features converted to numbers and there are no more missing values, we can move forward to building our model."
   ]
  },
  {
   "cell_type": "markdown",
   "id": "7d55fa81-bdea-4a99-9b5a-99b9d88a1ac8",
   "metadata": {},
   "source": [
    "## Modelling"
   ]
  },
  {
   "cell_type": "code",
   "execution_count": 23,
   "id": "4365abe6-6502-42bb-a532-6fe9ea881240",
   "metadata": {},
   "outputs": [
    {
     "data": {
      "text/plain": [
       "((61069, 38), (61069,))"
      ]
     },
     "execution_count": 23,
     "metadata": {},
     "output_type": "execute_result"
    }
   ],
   "source": [
    "from sklearn.ensemble import RandomForestClassifier\n",
    "from sklearn.neighbors import KNeighborsClassifier\n",
    "\n",
    "knn = KNeighborsClassifier()\n",
    "clf = RandomForestClassifier()\n",
    "X = df.drop(\"class\", axis=1)\n",
    "y = df[\"class\"]\n",
    "X.shape, y.shape"
   ]
  },
  {
   "cell_type": "code",
   "execution_count": 24,
   "id": "133df96e-8c4c-42b6-aff9-88a33dd999a3",
   "metadata": {},
   "outputs": [],
   "source": [
    "from sklearn.model_selection import train_test_split\n",
    "X_train, X_test, y_train, y_test = train_test_split(X, y, test_size=0.2)"
   ]
  },
  {
   "cell_type": "code",
   "execution_count": 25,
   "id": "656282bd-7057-4f3a-9dad-7ad45bb322d4",
   "metadata": {},
   "outputs": [
    {
     "data": {
      "text/plain": [
       "0.9999181267398067"
      ]
     },
     "execution_count": 25,
     "metadata": {},
     "output_type": "execute_result"
    }
   ],
   "source": [
    "knn.fit(X_train, y_train)\n",
    "knn.score(X_test, y_test)"
   ]
  },
  {
   "cell_type": "code",
   "execution_count": 26,
   "id": "e0842da9-86ad-456f-b3a5-d1c33f339c94",
   "metadata": {},
   "outputs": [
    {
     "data": {
      "text/plain": [
       "0.9999181267398067"
      ]
     },
     "execution_count": 26,
     "metadata": {},
     "output_type": "execute_result"
    }
   ],
   "source": [
    "clf.fit(X_train, y_train)\n",
    "clf.score(X_test, y_test)"
   ]
  },
  {
   "cell_type": "markdown",
   "id": "55eba371-ab11-4e10-9c49-7986b0d7d7d6",
   "metadata": {},
   "source": [
    "This is not what I expected! I wonder if I made a mistake..."
   ]
  },
  {
   "cell_type": "markdown",
   "id": "c6525741-73dd-488e-ae30-e81dc0019433",
   "metadata": {},
   "source": [
    "### Feature Importance"
   ]
  },
  {
   "cell_type": "code",
   "execution_count": 46,
   "id": "1d668d29-04d9-43a3-9424-6cfb751fdd5d",
   "metadata": {},
   "outputs": [
    {
     "data": {
      "image/png": "[encoded data removed]",
      "text/plain": [
       "<Figure size 640x480 with 1 Axes>"
      ]
     },
     "metadata": {},
     "output_type": "display_data"
    }
   ],
   "source": [
    "def plot_features(columns, importances, n=25):\n",
    "    df = pd.DataFrame(\n",
    "        {\"features\": columns, \"feature_importances\": importances}\n",
    "    ).sort_values(\"feature_importances\", ascending=False).reset_index(drop=True)\n",
    "    fig, ax = plt.subplots()\n",
    "    ax.barh(df[\"features\"][:n], df[\"feature_importances\"][:n])\n",
    "    ax.invert_yaxis()\n",
    "\n",
    "plot_features(X.columns, clf.feature_importances_)"
   ]
  }
 ],
 "metadata": {
  "kernelspec": {
   "display_name": "Python 3 (ipykernel)",
   "language": "python",
   "name": "python3"
  },
  "language_info": {
   "codemirror_mode": {
    "name": "ipython",
    "version": 3
   },
   "file_extension": ".py",
   "mimetype": "text/x-python",
   "name": "python",
   "nbconvert_exporter": "python",
   "pygments_lexer": "ipython3",
   "version": "3.10.13"
  }
 },
 "nbformat": 4,
 "nbformat_minor": 5
}
